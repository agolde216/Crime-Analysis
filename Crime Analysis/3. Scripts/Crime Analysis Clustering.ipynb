{
 "cells": [
  {
   "cell_type": "markdown",
   "id": "9001a8d0",
   "metadata": {},
   "source": [
    "# 1. Import Libraries"
   ]
  },
  {
   "cell_type": "code",
   "execution_count": 1,
   "id": "c6f799a8",
   "metadata": {},
   "outputs": [],
   "source": [
    "#import libraries\n",
    "import pandas as pd\n",
    "import numpy as np\n",
    "from numpy import asarray\n",
    "import os\n",
    "import matplotlib.pyplot as plt\n",
    "import matplotlib.ticker as mtick\n",
    "import seaborn as sns\n",
    "import scipy\n",
    "import folium\n",
    "import json\n",
    "import requests\n",
    "import datetime\n",
    "import sklearn\n",
    "from sklearn.model_selection import train_test_split \n",
    "from sklearn.linear_model import LinearRegression\n",
    "from sklearn.metrics import mean_squared_error, r2_score\n",
    "from sklearn.preprocessing import OneHotEncoder\n",
    "from sklearn.preprocessing import LabelEncoder\n",
    "from sklearn.cluster import KMeans \n",
    "import pylab as pl "
   ]
  },
  {
   "cell_type": "markdown",
   "id": "acf02022",
   "metadata": {},
   "source": [
    "# 2. Import Data"
   ]
  },
  {
   "cell_type": "code",
   "execution_count": 2,
   "id": "7c05197d",
   "metadata": {},
   "outputs": [],
   "source": [
    "# This option ensures the graphs you create are displayed in your notebook without the need to \"call\" them specifically.\n",
    "\n",
    "%matplotlib inline"
   ]
  },
  {
   "cell_type": "code",
   "execution_count": 3,
   "id": "b34e0bfc",
   "metadata": {},
   "outputs": [],
   "source": [
    "path = r'/Users/golde/Crime Analysis/'"
   ]
  },
  {
   "cell_type": "code",
   "execution_count": 4,
   "id": "9318a25e",
   "metadata": {},
   "outputs": [],
   "source": [
    "crimes = pd.read_csv(os.path.join(path, '2. Data','Prepared Data', 'crimes_w_dates.csv'))"
   ]
  },
  {
   "cell_type": "code",
   "execution_count": 5,
   "id": "8500ac24",
   "metadata": {},
   "outputs": [],
   "source": [
    "pd.options.display.max_columns = None"
   ]
  },
  {
   "cell_type": "code",
   "execution_count": 6,
   "id": "a49094fa",
   "metadata": {},
   "outputs": [],
   "source": [
    "crimes = crimes.drop(columns = ['Unnamed: 0'])"
   ]
  },
  {
   "cell_type": "code",
   "execution_count": 7,
   "id": "b851c2fc",
   "metadata": {},
   "outputs": [
    {
     "data": {
      "text/html": [
       "<div>\n",
       "<style scoped>\n",
       "    .dataframe tbody tr th:only-of-type {\n",
       "        vertical-align: middle;\n",
       "    }\n",
       "\n",
       "    .dataframe tbody tr th {\n",
       "        vertical-align: top;\n",
       "    }\n",
       "\n",
       "    .dataframe thead th {\n",
       "        text-align: right;\n",
       "    }\n",
       "</style>\n",
       "<table border=\"1\" class=\"dataframe\">\n",
       "  <thead>\n",
       "    <tr style=\"text-align: right;\">\n",
       "      <th></th>\n",
       "      <th>ID</th>\n",
       "      <th>Case Number</th>\n",
       "      <th>Date</th>\n",
       "      <th>Block</th>\n",
       "      <th>IUCR</th>\n",
       "      <th>Primary Type</th>\n",
       "      <th>Description</th>\n",
       "      <th>Location Description</th>\n",
       "      <th>Arrest</th>\n",
       "      <th>Domestic</th>\n",
       "      <th>Beat</th>\n",
       "      <th>District</th>\n",
       "      <th>Ward</th>\n",
       "      <th>Community Area</th>\n",
       "      <th>FBI Code</th>\n",
       "      <th>X Coordinate</th>\n",
       "      <th>Y Coordinate</th>\n",
       "      <th>Year</th>\n",
       "      <th>Updated On</th>\n",
       "      <th>Latitude</th>\n",
       "      <th>Longitude</th>\n",
       "      <th>Location</th>\n",
       "      <th>Neighborhood</th>\n",
       "      <th>New_Dates</th>\n",
       "      <th>Time</th>\n",
       "      <th>Day</th>\n",
       "      <th>Month</th>\n",
       "      <th>Crime Type</th>\n",
       "      <th>Season</th>\n",
       "    </tr>\n",
       "  </thead>\n",
       "  <tbody>\n",
       "    <tr>\n",
       "      <th>0</th>\n",
       "      <td>10224738</td>\n",
       "      <td>HY411648</td>\n",
       "      <td>2015-09-05 13:30:00</td>\n",
       "      <td>043XX S WOOD ST</td>\n",
       "      <td>486</td>\n",
       "      <td>BATTERY</td>\n",
       "      <td>DOMESTIC BATTERY SIMPLE</td>\n",
       "      <td>RESIDENCE</td>\n",
       "      <td>False</td>\n",
       "      <td>True</td>\n",
       "      <td>924</td>\n",
       "      <td>9.0</td>\n",
       "      <td>12.0</td>\n",
       "      <td>61.0</td>\n",
       "      <td>08B</td>\n",
       "      <td>1165074.0</td>\n",
       "      <td>1875917.0</td>\n",
       "      <td>2015</td>\n",
       "      <td>2/10/18 15:50</td>\n",
       "      <td>41.815117</td>\n",
       "      <td>-87.670000</td>\n",
       "      <td>(41.815117282, -87.669999562)</td>\n",
       "      <td>New City</td>\n",
       "      <td>2015-09-05</td>\n",
       "      <td>13:30:00</td>\n",
       "      <td>5</td>\n",
       "      <td>9</td>\n",
       "      <td>Violent</td>\n",
       "      <td>Fall</td>\n",
       "    </tr>\n",
       "    <tr>\n",
       "      <th>1</th>\n",
       "      <td>10224739</td>\n",
       "      <td>HY411615</td>\n",
       "      <td>2015-09-04 11:30:00</td>\n",
       "      <td>008XX N CENTRAL AVE</td>\n",
       "      <td>870</td>\n",
       "      <td>THEFT</td>\n",
       "      <td>POCKET-PICKING</td>\n",
       "      <td>CTA BUS</td>\n",
       "      <td>False</td>\n",
       "      <td>False</td>\n",
       "      <td>1511</td>\n",
       "      <td>15.0</td>\n",
       "      <td>29.0</td>\n",
       "      <td>25.0</td>\n",
       "      <td>6</td>\n",
       "      <td>1138875.0</td>\n",
       "      <td>1904869.0</td>\n",
       "      <td>2015</td>\n",
       "      <td>2/10/18 15:50</td>\n",
       "      <td>41.895080</td>\n",
       "      <td>-87.765400</td>\n",
       "      <td>(41.895080471, -87.765400451)</td>\n",
       "      <td>Austin</td>\n",
       "      <td>2015-09-04</td>\n",
       "      <td>11:30:00</td>\n",
       "      <td>4</td>\n",
       "      <td>9</td>\n",
       "      <td>Non-Violent</td>\n",
       "      <td>Fall</td>\n",
       "    </tr>\n",
       "    <tr>\n",
       "      <th>2</th>\n",
       "      <td>10224740</td>\n",
       "      <td>HY411595</td>\n",
       "      <td>2015-09-05 12:45:00</td>\n",
       "      <td>035XX W BARRY AVE</td>\n",
       "      <td>2023</td>\n",
       "      <td>NARCOTICS</td>\n",
       "      <td>POSS: HEROIN(BRN/TAN)</td>\n",
       "      <td>SIDEWALK</td>\n",
       "      <td>True</td>\n",
       "      <td>False</td>\n",
       "      <td>1412</td>\n",
       "      <td>14.0</td>\n",
       "      <td>35.0</td>\n",
       "      <td>21.0</td>\n",
       "      <td>18</td>\n",
       "      <td>1152037.0</td>\n",
       "      <td>1920384.0</td>\n",
       "      <td>2015</td>\n",
       "      <td>2/10/18 15:50</td>\n",
       "      <td>41.937406</td>\n",
       "      <td>-87.716650</td>\n",
       "      <td>(41.937405765, -87.716649687)</td>\n",
       "      <td>Avondale</td>\n",
       "      <td>2015-09-05</td>\n",
       "      <td>12:45:00</td>\n",
       "      <td>5</td>\n",
       "      <td>9</td>\n",
       "      <td>Non-Violent</td>\n",
       "      <td>Fall</td>\n",
       "    </tr>\n",
       "    <tr>\n",
       "      <th>3</th>\n",
       "      <td>10224741</td>\n",
       "      <td>HY411610</td>\n",
       "      <td>2015-09-05 13:00:00</td>\n",
       "      <td>0000X N LARAMIE AVE</td>\n",
       "      <td>560</td>\n",
       "      <td>ASSAULT</td>\n",
       "      <td>SIMPLE</td>\n",
       "      <td>APARTMENT</td>\n",
       "      <td>False</td>\n",
       "      <td>True</td>\n",
       "      <td>1522</td>\n",
       "      <td>15.0</td>\n",
       "      <td>28.0</td>\n",
       "      <td>25.0</td>\n",
       "      <td>08A</td>\n",
       "      <td>1141706.0</td>\n",
       "      <td>1900086.0</td>\n",
       "      <td>2015</td>\n",
       "      <td>2/10/18 15:50</td>\n",
       "      <td>41.881903</td>\n",
       "      <td>-87.755121</td>\n",
       "      <td>(41.881903443, -87.755121152)</td>\n",
       "      <td>Austin</td>\n",
       "      <td>2015-09-05</td>\n",
       "      <td>13:00:00</td>\n",
       "      <td>5</td>\n",
       "      <td>9</td>\n",
       "      <td>Non-Violent</td>\n",
       "      <td>Fall</td>\n",
       "    </tr>\n",
       "    <tr>\n",
       "      <th>4</th>\n",
       "      <td>10224742</td>\n",
       "      <td>HY411435</td>\n",
       "      <td>2015-09-05 10:55:00</td>\n",
       "      <td>082XX S LOOMIS BLVD</td>\n",
       "      <td>610</td>\n",
       "      <td>BURGLARY</td>\n",
       "      <td>FORCIBLE ENTRY</td>\n",
       "      <td>RESIDENCE</td>\n",
       "      <td>False</td>\n",
       "      <td>False</td>\n",
       "      <td>614</td>\n",
       "      <td>6.0</td>\n",
       "      <td>21.0</td>\n",
       "      <td>71.0</td>\n",
       "      <td>5</td>\n",
       "      <td>1168430.0</td>\n",
       "      <td>1850165.0</td>\n",
       "      <td>2015</td>\n",
       "      <td>2/10/18 15:50</td>\n",
       "      <td>41.744379</td>\n",
       "      <td>-87.658431</td>\n",
       "      <td>(41.744378879, -87.658430635)</td>\n",
       "      <td>Auburn Gresham</td>\n",
       "      <td>2015-09-05</td>\n",
       "      <td>10:55:00</td>\n",
       "      <td>5</td>\n",
       "      <td>9</td>\n",
       "      <td>Non-Violent</td>\n",
       "      <td>Fall</td>\n",
       "    </tr>\n",
       "  </tbody>\n",
       "</table>\n",
       "</div>"
      ],
      "text/plain": [
       "         ID Case Number                 Date                Block  IUCR  \\\n",
       "0  10224738    HY411648  2015-09-05 13:30:00      043XX S WOOD ST   486   \n",
       "1  10224739    HY411615  2015-09-04 11:30:00  008XX N CENTRAL AVE   870   \n",
       "2  10224740    HY411595  2015-09-05 12:45:00    035XX W BARRY AVE  2023   \n",
       "3  10224741    HY411610  2015-09-05 13:00:00  0000X N LARAMIE AVE   560   \n",
       "4  10224742    HY411435  2015-09-05 10:55:00  082XX S LOOMIS BLVD   610   \n",
       "\n",
       "  Primary Type              Description Location Description  Arrest  \\\n",
       "0      BATTERY  DOMESTIC BATTERY SIMPLE            RESIDENCE   False   \n",
       "1        THEFT           POCKET-PICKING              CTA BUS   False   \n",
       "2    NARCOTICS    POSS: HEROIN(BRN/TAN)             SIDEWALK    True   \n",
       "3      ASSAULT                   SIMPLE            APARTMENT   False   \n",
       "4     BURGLARY           FORCIBLE ENTRY            RESIDENCE   False   \n",
       "\n",
       "   Domestic  Beat  District  Ward  Community Area FBI Code  X Coordinate  \\\n",
       "0      True   924       9.0  12.0            61.0      08B     1165074.0   \n",
       "1     False  1511      15.0  29.0            25.0        6     1138875.0   \n",
       "2     False  1412      14.0  35.0            21.0       18     1152037.0   \n",
       "3      True  1522      15.0  28.0            25.0      08A     1141706.0   \n",
       "4     False   614       6.0  21.0            71.0        5     1168430.0   \n",
       "\n",
       "   Y Coordinate  Year     Updated On   Latitude  Longitude  \\\n",
       "0     1875917.0  2015  2/10/18 15:50  41.815117 -87.670000   \n",
       "1     1904869.0  2015  2/10/18 15:50  41.895080 -87.765400   \n",
       "2     1920384.0  2015  2/10/18 15:50  41.937406 -87.716650   \n",
       "3     1900086.0  2015  2/10/18 15:50  41.881903 -87.755121   \n",
       "4     1850165.0  2015  2/10/18 15:50  41.744379 -87.658431   \n",
       "\n",
       "                        Location    Neighborhood   New_Dates      Time  Day  \\\n",
       "0  (41.815117282, -87.669999562)        New City  2015-09-05  13:30:00    5   \n",
       "1  (41.895080471, -87.765400451)          Austin  2015-09-04  11:30:00    4   \n",
       "2  (41.937405765, -87.716649687)        Avondale  2015-09-05  12:45:00    5   \n",
       "3  (41.881903443, -87.755121152)          Austin  2015-09-05  13:00:00    5   \n",
       "4  (41.744378879, -87.658430635)  Auburn Gresham  2015-09-05  10:55:00    5   \n",
       "\n",
       "   Month   Crime Type Season  \n",
       "0      9      Violent   Fall  \n",
       "1      9  Non-Violent   Fall  \n",
       "2      9  Non-Violent   Fall  \n",
       "3      9  Non-Violent   Fall  \n",
       "4      9  Non-Violent   Fall  "
      ]
     },
     "execution_count": 7,
     "metadata": {},
     "output_type": "execute_result"
    }
   ],
   "source": [
    "crimes.head()"
   ]
  },
  {
   "cell_type": "markdown",
   "id": "b1e8634f",
   "metadata": {},
   "source": [
    "# 3. Data Wrangling"
   ]
  },
  {
   "cell_type": "code",
   "execution_count": null,
   "id": "83d48131",
   "metadata": {},
   "outputs": [],
   "source": [
    "enc = OneHotEncoder()"
   ]
  },
  {
   "cell_type": "code",
   "execution_count": null,
   "id": "e7617739",
   "metadata": {},
   "outputs": [],
   "source": [
    "le = LabelEncoder()"
   ]
  },
  {
   "cell_type": "code",
   "execution_count": null,
   "id": "4956e7f8",
   "metadata": {},
   "outputs": [],
   "source": [
    "X = crimes.select_dtypes(include=[object])"
   ]
  },
  {
   "cell_type": "code",
   "execution_count": null,
   "id": "942feaea",
   "metadata": {},
   "outputs": [],
   "source": [
    "X.columns"
   ]
  },
  {
   "cell_type": "code",
   "execution_count": null,
   "id": "35bc796c",
   "metadata": {},
   "outputs": [],
   "source": [
    "X = X[['Date','IUCR','Primary Type','Location Description','FBI Code','Neighborhood','Crime Type','Season']]"
   ]
  },
  {
   "cell_type": "code",
   "execution_count": null,
   "id": "24cc5880",
   "metadata": {},
   "outputs": [],
   "source": [
    "#FIT\n",
    "X_2 = X.apply(le.fit_transform)"
   ]
  },
  {
   "cell_type": "code",
   "execution_count": null,
   "id": "9ad13879",
   "metadata": {},
   "outputs": [],
   "source": [
    "# FIT\n",
    "enc.fit(X_2)"
   ]
  },
  {
   "cell_type": "code",
   "execution_count": null,
   "id": "f7785c90",
   "metadata": {},
   "outputs": [],
   "source": [
    "# Transform\n",
    "onehotlabels = enc.transform(X_2).toarray()"
   ]
  },
  {
   "cell_type": "markdown",
   "id": "329cd210",
   "metadata": {},
   "source": [
    "# 4. Elbow Technique"
   ]
  },
  {
   "cell_type": "code",
   "execution_count": 10,
   "id": "3d5d39b6",
   "metadata": {},
   "outputs": [],
   "source": [
    "y = crimes.select_dtypes(include=[int,float])"
   ]
  },
  {
   "cell_type": "code",
   "execution_count": 11,
   "id": "6629b907",
   "metadata": {},
   "outputs": [
    {
     "data": {
      "text/html": [
       "<div>\n",
       "<style scoped>\n",
       "    .dataframe tbody tr th:only-of-type {\n",
       "        vertical-align: middle;\n",
       "    }\n",
       "\n",
       "    .dataframe tbody tr th {\n",
       "        vertical-align: top;\n",
       "    }\n",
       "\n",
       "    .dataframe thead th {\n",
       "        text-align: right;\n",
       "    }\n",
       "</style>\n",
       "<table border=\"1\" class=\"dataframe\">\n",
       "  <thead>\n",
       "    <tr style=\"text-align: right;\">\n",
       "      <th></th>\n",
       "      <th>ID</th>\n",
       "      <th>Beat</th>\n",
       "      <th>District</th>\n",
       "      <th>Ward</th>\n",
       "      <th>Community Area</th>\n",
       "      <th>X Coordinate</th>\n",
       "      <th>Y Coordinate</th>\n",
       "      <th>Year</th>\n",
       "      <th>Latitude</th>\n",
       "      <th>Longitude</th>\n",
       "      <th>Day</th>\n",
       "      <th>Month</th>\n",
       "    </tr>\n",
       "  </thead>\n",
       "  <tbody>\n",
       "    <tr>\n",
       "      <th>0</th>\n",
       "      <td>10224738</td>\n",
       "      <td>924</td>\n",
       "      <td>9.0</td>\n",
       "      <td>12.0</td>\n",
       "      <td>61.0</td>\n",
       "      <td>1165074.0</td>\n",
       "      <td>1875917.0</td>\n",
       "      <td>2015</td>\n",
       "      <td>41.815117</td>\n",
       "      <td>-87.670000</td>\n",
       "      <td>5</td>\n",
       "      <td>9</td>\n",
       "    </tr>\n",
       "    <tr>\n",
       "      <th>1</th>\n",
       "      <td>10224739</td>\n",
       "      <td>1511</td>\n",
       "      <td>15.0</td>\n",
       "      <td>29.0</td>\n",
       "      <td>25.0</td>\n",
       "      <td>1138875.0</td>\n",
       "      <td>1904869.0</td>\n",
       "      <td>2015</td>\n",
       "      <td>41.895080</td>\n",
       "      <td>-87.765400</td>\n",
       "      <td>4</td>\n",
       "      <td>9</td>\n",
       "    </tr>\n",
       "    <tr>\n",
       "      <th>2</th>\n",
       "      <td>10224740</td>\n",
       "      <td>1412</td>\n",
       "      <td>14.0</td>\n",
       "      <td>35.0</td>\n",
       "      <td>21.0</td>\n",
       "      <td>1152037.0</td>\n",
       "      <td>1920384.0</td>\n",
       "      <td>2015</td>\n",
       "      <td>41.937406</td>\n",
       "      <td>-87.716650</td>\n",
       "      <td>5</td>\n",
       "      <td>9</td>\n",
       "    </tr>\n",
       "    <tr>\n",
       "      <th>3</th>\n",
       "      <td>10224741</td>\n",
       "      <td>1522</td>\n",
       "      <td>15.0</td>\n",
       "      <td>28.0</td>\n",
       "      <td>25.0</td>\n",
       "      <td>1141706.0</td>\n",
       "      <td>1900086.0</td>\n",
       "      <td>2015</td>\n",
       "      <td>41.881903</td>\n",
       "      <td>-87.755121</td>\n",
       "      <td>5</td>\n",
       "      <td>9</td>\n",
       "    </tr>\n",
       "    <tr>\n",
       "      <th>4</th>\n",
       "      <td>10224742</td>\n",
       "      <td>614</td>\n",
       "      <td>6.0</td>\n",
       "      <td>21.0</td>\n",
       "      <td>71.0</td>\n",
       "      <td>1168430.0</td>\n",
       "      <td>1850165.0</td>\n",
       "      <td>2015</td>\n",
       "      <td>41.744379</td>\n",
       "      <td>-87.658431</td>\n",
       "      <td>5</td>\n",
       "      <td>9</td>\n",
       "    </tr>\n",
       "    <tr>\n",
       "      <th>...</th>\n",
       "      <td>...</td>\n",
       "      <td>...</td>\n",
       "      <td>...</td>\n",
       "      <td>...</td>\n",
       "      <td>...</td>\n",
       "      <td>...</td>\n",
       "      <td>...</td>\n",
       "      <td>...</td>\n",
       "      <td>...</td>\n",
       "      <td>...</td>\n",
       "      <td>...</td>\n",
       "      <td>...</td>\n",
       "    </tr>\n",
       "    <tr>\n",
       "      <th>1015296</th>\n",
       "      <td>11870906</td>\n",
       "      <td>623</td>\n",
       "      <td>6.0</td>\n",
       "      <td>6.0</td>\n",
       "      <td>69.0</td>\n",
       "      <td>1179344.0</td>\n",
       "      <td>1854996.0</td>\n",
       "      <td>2019</td>\n",
       "      <td>41.757394</td>\n",
       "      <td>-87.618294</td>\n",
       "      <td>24</td>\n",
       "      <td>10</td>\n",
       "    </tr>\n",
       "    <tr>\n",
       "      <th>1015297</th>\n",
       "      <td>1316816</td>\n",
       "      <td>2533</td>\n",
       "      <td>25.0</td>\n",
       "      <td>37.0</td>\n",
       "      <td>25.0</td>\n",
       "      <td>1141728.0</td>\n",
       "      <td>1910856.0</td>\n",
       "      <td>2001</td>\n",
       "      <td>41.911457</td>\n",
       "      <td>-87.754774</td>\n",
       "      <td>3</td>\n",
       "      <td>1</td>\n",
       "    </tr>\n",
       "    <tr>\n",
       "      <th>1015298</th>\n",
       "      <td>11580899</td>\n",
       "      <td>2533</td>\n",
       "      <td>25.0</td>\n",
       "      <td>37.0</td>\n",
       "      <td>25.0</td>\n",
       "      <td>1142432.0</td>\n",
       "      <td>1908180.0</td>\n",
       "      <td>2019</td>\n",
       "      <td>41.904101</td>\n",
       "      <td>-87.752254</td>\n",
       "      <td>29</td>\n",
       "      <td>1</td>\n",
       "    </tr>\n",
       "    <tr>\n",
       "      <th>1015299</th>\n",
       "      <td>11870601</td>\n",
       "      <td>312</td>\n",
       "      <td>3.0</td>\n",
       "      <td>20.0</td>\n",
       "      <td>42.0</td>\n",
       "      <td>1180341.0</td>\n",
       "      <td>1863044.0</td>\n",
       "      <td>2019</td>\n",
       "      <td>41.779456</td>\n",
       "      <td>-87.614393</td>\n",
       "      <td>24</td>\n",
       "      <td>10</td>\n",
       "    </tr>\n",
       "    <tr>\n",
       "      <th>1015300</th>\n",
       "      <td>10070330</td>\n",
       "      <td>632</td>\n",
       "      <td>6.0</td>\n",
       "      <td>6.0</td>\n",
       "      <td>44.0</td>\n",
       "      <td>1182609.0</td>\n",
       "      <td>1847455.0</td>\n",
       "      <td>2015</td>\n",
       "      <td>41.736625</td>\n",
       "      <td>-87.606561</td>\n",
       "      <td>12</td>\n",
       "      <td>5</td>\n",
       "    </tr>\n",
       "  </tbody>\n",
       "</table>\n",
       "<p>1015301 rows × 12 columns</p>\n",
       "</div>"
      ],
      "text/plain": [
       "               ID  Beat  District  Ward  Community Area  X Coordinate  \\\n",
       "0        10224738   924       9.0  12.0            61.0     1165074.0   \n",
       "1        10224739  1511      15.0  29.0            25.0     1138875.0   \n",
       "2        10224740  1412      14.0  35.0            21.0     1152037.0   \n",
       "3        10224741  1522      15.0  28.0            25.0     1141706.0   \n",
       "4        10224742   614       6.0  21.0            71.0     1168430.0   \n",
       "...           ...   ...       ...   ...             ...           ...   \n",
       "1015296  11870906   623       6.0   6.0            69.0     1179344.0   \n",
       "1015297   1316816  2533      25.0  37.0            25.0     1141728.0   \n",
       "1015298  11580899  2533      25.0  37.0            25.0     1142432.0   \n",
       "1015299  11870601   312       3.0  20.0            42.0     1180341.0   \n",
       "1015300  10070330   632       6.0   6.0            44.0     1182609.0   \n",
       "\n",
       "         Y Coordinate  Year   Latitude  Longitude  Day  Month  \n",
       "0           1875917.0  2015  41.815117 -87.670000    5      9  \n",
       "1           1904869.0  2015  41.895080 -87.765400    4      9  \n",
       "2           1920384.0  2015  41.937406 -87.716650    5      9  \n",
       "3           1900086.0  2015  41.881903 -87.755121    5      9  \n",
       "4           1850165.0  2015  41.744379 -87.658431    5      9  \n",
       "...               ...   ...        ...        ...  ...    ...  \n",
       "1015296     1854996.0  2019  41.757394 -87.618294   24     10  \n",
       "1015297     1910856.0  2001  41.911457 -87.754774    3      1  \n",
       "1015298     1908180.0  2019  41.904101 -87.752254   29      1  \n",
       "1015299     1863044.0  2019  41.779456 -87.614393   24     10  \n",
       "1015300     1847455.0  2015  41.736625 -87.606561   12      5  \n",
       "\n",
       "[1015301 rows x 12 columns]"
      ]
     },
     "execution_count": 11,
     "metadata": {},
     "output_type": "execute_result"
    }
   ],
   "source": [
    "y"
   ]
  },
  {
   "cell_type": "code",
   "execution_count": 12,
   "id": "b4ae95c3",
   "metadata": {},
   "outputs": [],
   "source": [
    "num_cl = range(1, 10) # Defines the range of potential clusters in the data.\n",
    "kmeans = [KMeans(n_clusters=i) for i in num_cl] # Defines k-means clusters in the range assigned above."
   ]
  },
  {
   "cell_type": "code",
   "execution_count": 15,
   "id": "fc0489dc",
   "metadata": {},
   "outputs": [],
   "source": [
    "score = [kmeans[i].fit(y).score(y) for i in range(len(kmeans))] # Creates a score that represents \n",
    "# a rate of variation for the given cluster option.\n",
    "\n"
   ]
  },
  {
   "cell_type": "code",
   "execution_count": 16,
   "id": "66b21f1b",
   "metadata": {},
   "outputs": [
    {
     "data": {
      "image/png": "[encoded data removed]",
      "text/plain": [
       "<Figure size 432x288 with 1 Axes>"
      ]
     },
     "metadata": {
      "needs_background": "light"
     },
     "output_type": "display_data"
    }
   ],
   "source": [
    "# Plot the elbow curve using PyLab.\n",
    "\n",
    "pl.plot(num_cl,score)\n",
    "pl.xlabel('Number of Clusters')\n",
    "pl.ylabel('Score')\n",
    "pl.title('Elbow Curve')\n",
    "pl.show()"
   ]
  },
  {
   "cell_type": "markdown",
   "id": "04712d97",
   "metadata": {},
   "source": [
    "# 5. K-means"
   ]
  },
  {
   "cell_type": "code",
   "execution_count": 17,
   "id": "20e4ebba",
   "metadata": {},
   "outputs": [],
   "source": [
    "# Create the k-means object.\n",
    "\n",
    "kmeans = KMeans(n_clusters = 3, n_jobs = -1) "
   ]
  },
  {
   "cell_type": "code",
   "execution_count": 18,
   "id": "00a064c0",
   "metadata": {},
   "outputs": [
    {
     "name": "stderr",
     "output_type": "stream",
     "text": [
      "/Users/golde/opt/anaconda3/lib/python3.8/site-packages/sklearn/cluster/_kmeans.py:792: FutureWarning: 'n_jobs' was deprecated in version 0.23 and will be removed in 1.0 (renaming of 0.25).\n",
      "  warnings.warn(\"'n_jobs' was deprecated in version 0.23 and will be\"\n"
     ]
    },
    {
     "data": {
      "text/plain": [
       "KMeans(n_clusters=3, n_jobs=-1)"
      ]
     },
     "execution_count": 18,
     "metadata": {},
     "output_type": "execute_result"
    }
   ],
   "source": [
    "# Fit the k-means object to the data.\n",
    "\n",
    "kmeans.fit(y)"
   ]
  },
  {
   "cell_type": "code",
   "execution_count": 19,
   "id": "7eabfc01",
   "metadata": {},
   "outputs": [
    {
     "name": "stderr",
     "output_type": "stream",
     "text": [
      "/Users/golde/opt/anaconda3/lib/python3.8/site-packages/sklearn/cluster/_kmeans.py:792: FutureWarning: 'n_jobs' was deprecated in version 0.23 and will be removed in 1.0 (renaming of 0.25).\n",
      "  warnings.warn(\"'n_jobs' was deprecated in version 0.23 and will be\"\n",
      "<ipython-input-19-090bc9248c9c>:1: SettingWithCopyWarning: \n",
      "A value is trying to be set on a copy of a slice from a DataFrame.\n",
      "Try using .loc[row_indexer,col_indexer] = value instead\n",
      "\n",
      "See the caveats in the documentation: https://pandas.pydata.org/pandas-docs/stable/user_guide/indexing.html#returning-a-view-versus-a-copy\n",
      "  y['clusters'] = kmeans.fit_predict(y)\n"
     ]
    }
   ],
   "source": [
    "y['clusters'] = kmeans.fit_predict(y)"
   ]
  },
  {
   "cell_type": "code",
   "execution_count": 20,
   "id": "3d7b4cf0",
   "metadata": {},
   "outputs": [
    {
     "data": {
      "text/plain": [
       "2    354718\n",
       "0    354532\n",
       "1    306051\n",
       "Name: clusters, dtype: int64"
      ]
     },
     "execution_count": 20,
     "metadata": {},
     "output_type": "execute_result"
    }
   ],
   "source": [
    "y['clusters'].value_counts()"
   ]
  },
  {
   "cell_type": "code",
   "execution_count": 23,
   "id": "6f0f7d01",
   "metadata": {},
   "outputs": [
    {
     "data": {
      "image/png": "[encoded data removed]",
      "text/plain": [
       "<Figure size 864x576 with 1 Axes>"
      ]
     },
     "metadata": {
      "needs_background": "light"
     },
     "output_type": "display_data"
    }
   ],
   "source": [
    "# Plot the clusters for the \"Month\" and \"District\" variables.\n",
    "\n",
    "plt.figure(figsize=(12,8))\n",
    "ax = sns.scatterplot(x=y['Month'], y=y['District'], hue=kmeans.labels_, s=100) \n",
    "# Here, you're subsetting `X` for the x and y arguments to avoid using their labels. \n",
    "# `hue` takes the value of the attribute `kmeans.labels_`, which is the result of running the k-means algorithm.\n",
    "# `s` represents the size of the points you want to see in the plot.\n",
    "\n",
    "ax.grid(False) # This removes the grid from the background.\n",
    "plt.xlabel('Month') # Label x-axis.\n",
    "plt.ylabel('District') # Label y-axis.\n",
    "plt.show()"
   ]
  },
  {
   "cell_type": "code",
   "execution_count": 24,
   "id": "ef50e5bf",
   "metadata": {},
   "outputs": [
    {
     "data": {
      "image/png": "[encoded data removed]",
      "text/plain": [
       "<Figure size 864x576 with 1 Axes>"
      ]
     },
     "metadata": {
      "needs_background": "light"
     },
     "output_type": "display_data"
    }
   ],
   "source": [
    "# Plot the clusters for the \"Beat\" and \"District\" variables.\n",
    "\n",
    "plt.figure(figsize=(12,8))\n",
    "ax = sns.scatterplot(x=y['Beat'], y=y['District'], hue=kmeans.labels_, s=100) \n",
    "# Here, you're subsetting `X` for the x and y arguments to avoid using their labels. \n",
    "# `hue` takes the value of the attribute `kmeans.labels_`, which is the result of running the k-means algorithm.\n",
    "# `s` represents the size of the points you want to see in the plot.\n",
    "\n",
    "ax.grid(False) # This removes the grid from the background.\n",
    "plt.xlabel('Beat') # Label x-axis.\n",
    "plt.ylabel('District') # Label y-axis.\n",
    "plt.show()"
   ]
  },
  {
   "cell_type": "code",
   "execution_count": 25,
   "id": "5c7050c6",
   "metadata": {},
   "outputs": [
    {
     "name": "stderr",
     "output_type": "stream",
     "text": [
      "/Users/golde/opt/anaconda3/lib/python3.8/site-packages/pandas/core/indexing.py:1599: SettingWithCopyWarning: \n",
      "A value is trying to be set on a copy of a slice from a DataFrame.\n",
      "Try using .loc[row_indexer,col_indexer] = value instead\n",
      "\n",
      "See the caveats in the documentation: https://pandas.pydata.org/pandas-docs/stable/user_guide/indexing.html#returning-a-view-versus-a-copy\n",
      "  self.obj[key] = infer_fill_value(value)\n",
      "/Users/golde/opt/anaconda3/lib/python3.8/site-packages/pandas/core/indexing.py:1720: SettingWithCopyWarning: \n",
      "A value is trying to be set on a copy of a slice from a DataFrame.\n",
      "Try using .loc[row_indexer,col_indexer] = value instead\n",
      "\n",
      "See the caveats in the documentation: https://pandas.pydata.org/pandas-docs/stable/user_guide/indexing.html#returning-a-view-versus-a-copy\n",
      "  self._setitem_single_column(loc, value, pi)\n",
      "/Users/golde/opt/anaconda3/lib/python3.8/site-packages/pandas/core/indexing.py:1720: SettingWithCopyWarning: \n",
      "A value is trying to be set on a copy of a slice from a DataFrame.\n",
      "Try using .loc[row_indexer,col_indexer] = value instead\n",
      "\n",
      "See the caveats in the documentation: https://pandas.pydata.org/pandas-docs/stable/user_guide/indexing.html#returning-a-view-versus-a-copy\n",
      "  self._setitem_single_column(loc, value, pi)\n",
      "/Users/golde/opt/anaconda3/lib/python3.8/site-packages/pandas/core/indexing.py:1720: SettingWithCopyWarning: \n",
      "A value is trying to be set on a copy of a slice from a DataFrame.\n",
      "Try using .loc[row_indexer,col_indexer] = value instead\n",
      "\n",
      "See the caveats in the documentation: https://pandas.pydata.org/pandas-docs/stable/user_guide/indexing.html#returning-a-view-versus-a-copy\n",
      "  self._setitem_single_column(loc, value, pi)\n"
     ]
    }
   ],
   "source": [
    "y.loc[y['clusters'] == 2, 'cluster'] = 'dark purple'\n",
    "y.loc[y['clusters'] == 1, 'cluster'] = 'purple'\n",
    "y.loc[y['clusters'] == 0, 'cluster'] = 'pink'"
   ]
  },
  {
   "cell_type": "code",
   "execution_count": 26,
   "id": "da8b653d",
   "metadata": {},
   "outputs": [
    {
     "data": {
      "text/html": [
       "<div>\n",
       "<style scoped>\n",
       "    .dataframe tbody tr th:only-of-type {\n",
       "        vertical-align: middle;\n",
       "    }\n",
       "\n",
       "    .dataframe tbody tr th {\n",
       "        vertical-align: top;\n",
       "    }\n",
       "\n",
       "    .dataframe thead tr th {\n",
       "        text-align: left;\n",
       "    }\n",
       "\n",
       "    .dataframe thead tr:last-of-type th {\n",
       "        text-align: right;\n",
       "    }\n",
       "</style>\n",
       "<table border=\"1\" class=\"dataframe\">\n",
       "  <thead>\n",
       "    <tr>\n",
       "      <th></th>\n",
       "      <th colspan=\"2\" halign=\"left\">ID</th>\n",
       "      <th colspan=\"2\" halign=\"left\">Beat</th>\n",
       "      <th colspan=\"2\" halign=\"left\">District</th>\n",
       "      <th colspan=\"2\" halign=\"left\">Ward</th>\n",
       "      <th colspan=\"2\" halign=\"left\">Community Area</th>\n",
       "    </tr>\n",
       "    <tr>\n",
       "      <th></th>\n",
       "      <th>mean</th>\n",
       "      <th>median</th>\n",
       "      <th>mean</th>\n",
       "      <th>median</th>\n",
       "      <th>mean</th>\n",
       "      <th>median</th>\n",
       "      <th>mean</th>\n",
       "      <th>median</th>\n",
       "      <th>mean</th>\n",
       "      <th>median</th>\n",
       "    </tr>\n",
       "    <tr>\n",
       "      <th>cluster</th>\n",
       "      <th></th>\n",
       "      <th></th>\n",
       "      <th></th>\n",
       "      <th></th>\n",
       "      <th></th>\n",
       "      <th></th>\n",
       "      <th></th>\n",
       "      <th></th>\n",
       "      <th></th>\n",
       "      <th></th>\n",
       "    </tr>\n",
       "  </thead>\n",
       "  <tbody>\n",
       "    <tr>\n",
       "      <th>dark purple</th>\n",
       "      <td>1.094102e+07</td>\n",
       "      <td>10944829.5</td>\n",
       "      <td>1145.282258</td>\n",
       "      <td>1031</td>\n",
       "      <td>11.224502</td>\n",
       "      <td>10.0</td>\n",
       "      <td>23.214077</td>\n",
       "      <td>24.0</td>\n",
       "      <td>36.632562</td>\n",
       "      <td>32.0</td>\n",
       "    </tr>\n",
       "    <tr>\n",
       "      <th>pink</th>\n",
       "      <td>1.146623e+07</td>\n",
       "      <td>11449731.5</td>\n",
       "      <td>1138.686418</td>\n",
       "      <td>1024</td>\n",
       "      <td>11.158705</td>\n",
       "      <td>10.0</td>\n",
       "      <td>23.360261</td>\n",
       "      <td>24.0</td>\n",
       "      <td>36.581654</td>\n",
       "      <td>32.0</td>\n",
       "    </tr>\n",
       "    <tr>\n",
       "      <th>purple</th>\n",
       "      <td>1.038769e+07</td>\n",
       "      <td>10397780.0</td>\n",
       "      <td>1142.549895</td>\n",
       "      <td>1024</td>\n",
       "      <td>11.196673</td>\n",
       "      <td>10.0</td>\n",
       "      <td>22.903457</td>\n",
       "      <td>23.0</td>\n",
       "      <td>37.234601</td>\n",
       "      <td>32.0</td>\n",
       "    </tr>\n",
       "  </tbody>\n",
       "</table>\n",
       "</div>"
      ],
      "text/plain": [
       "                       ID                     Beat          District         \\\n",
       "                     mean      median         mean median       mean median   \n",
       "cluster                                                                       \n",
       "dark purple  1.094102e+07  10944829.5  1145.282258   1031  11.224502   10.0   \n",
       "pink         1.146623e+07  11449731.5  1138.686418   1024  11.158705   10.0   \n",
       "purple       1.038769e+07  10397780.0  1142.549895   1024  11.196673   10.0   \n",
       "\n",
       "                  Ward        Community Area         \n",
       "                  mean median           mean median  \n",
       "cluster                                              \n",
       "dark purple  23.214077   24.0      36.632562   32.0  \n",
       "pink         23.360261   24.0      36.581654   32.0  \n",
       "purple       22.903457   23.0      37.234601   32.0  "
      ]
     },
     "execution_count": 26,
     "metadata": {},
     "output_type": "execute_result"
    }
   ],
   "source": [
    "y.groupby('cluster').agg({'ID':['mean', 'median'], \n",
    "                         'Beat':['mean', 'median'], \n",
    "                         'District':['mean', 'median'],\n",
    "                         'Ward':['mean', 'median'],\n",
    "                          'Community Area':['mean', 'median']})"
   ]
  },
  {
   "cell_type": "code",
   "execution_count": null,
   "id": "2833af65",
   "metadata": {},
   "outputs": [],
   "source": []
  }
 ],
 "metadata": {
  "kernelspec": {
   "display_name": "Python 3",
   "language": "python",
   "name": "python3"
  },
  "language_info": {
   "codemirror_mode": {
    "name": "ipython",
    "version": 3
   },
   "file_extension": ".py",
   "mimetype": "text/x-python",
   "name": "python",
   "nbconvert_exporter": "python",
   "pygments_lexer": "ipython3",
   "version": "3.8.8"
  }
 },
 "nbformat": 4,
 "nbformat_minor": 5
}
